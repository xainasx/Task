{
  "cells": [
    {
      "cell_type": "markdown",
      "metadata": {
        "id": "view-in-github",
        "colab_type": "text"
      },
      "source": [
        "<a href=\"https://colab.research.google.com/github/xainasx/News-Clusterize/blob/main/News_Clusterizer.ipynb\" target=\"_parent\"><img src=\"https://colab.research.google.com/assets/colab-badge.svg\" alt=\"Open In Colab\"/></a>"
      ]
    },
    {
      "cell_type": "code",
      "execution_count": null,
      "metadata": {
        "colab": {
          "base_uri": "https://localhost:8080/"
        },
        "id": "IfzupynsLFV4",
        "outputId": "94350a9b-ad55-423a-90a6-774bcbb05bbe"
      },
      "outputs": [
        {
          "name": "stdout",
          "output_type": "stream",
          "text": [
            "Looking in indexes: https://pypi.org/simple, https://us-python.pkg.dev/colab-wheels/public/simple/\n",
            "Collecting feedparser\n",
            "  Downloading feedparser-6.0.10-py3-none-any.whl (81 kB)\n",
            "\u001b[2K     \u001b[90m━━━━━━━━━━━━━━━━━━━━━━━━━━━━━━━━━━━━━━━━\u001b[0m \u001b[32m81.1/81.1 KB\u001b[0m \u001b[31m2.3 MB/s\u001b[0m eta \u001b[36m0:00:00\u001b[0m\n",
            "\u001b[?25hCollecting sgmllib3k\n",
            "  Downloading sgmllib3k-1.0.0.tar.gz (5.8 kB)\n",
            "  Preparing metadata (setup.py) ... \u001b[?25l\u001b[?25hdone\n",
            "Building wheels for collected packages: sgmllib3k\n",
            "  Building wheel for sgmllib3k (setup.py) ... \u001b[?25l\u001b[?25hdone\n",
            "  Created wheel for sgmllib3k: filename=sgmllib3k-1.0.0-py3-none-any.whl size=6065 sha256=2de3f3ac4cf5e8884568ca2828c94b9a9517e6627a5a962edb572cfd84889f84\n",
            "  Stored in directory: /root/.cache/pip/wheels/65/7a/a7/78c287f64e401255dff4c13fdbc672fed5efbfd21c530114e1\n",
            "Successfully built sgmllib3k\n",
            "Installing collected packages: sgmllib3k, feedparser\n",
            "Successfully installed feedparser-6.0.10 sgmllib3k-1.0.0\n",
            "Looking in indexes: https://pypi.org/simple, https://us-python.pkg.dev/colab-wheels/public/simple/\n",
            "Requirement already satisfied: nltk in /usr/local/lib/python3.9/dist-packages (3.8.1)\n",
            "Requirement already satisfied: joblib in /usr/local/lib/python3.9/dist-packages (from nltk) (1.1.1)\n",
            "Requirement already satisfied: tqdm in /usr/local/lib/python3.9/dist-packages (from nltk) (4.65.0)\n",
            "Requirement already satisfied: regex>=2021.8.3 in /usr/local/lib/python3.9/dist-packages (from nltk) (2022.10.31)\n",
            "Requirement already satisfied: click in /usr/local/lib/python3.9/dist-packages (from nltk) (8.1.3)\n"
          ]
        },
        {
          "name": "stderr",
          "output_type": "stream",
          "text": [
            "[nltk_data] Downloading package stopwords to /root/nltk_data...\n",
            "[nltk_data]   Unzipping corpora/stopwords.zip.\n",
            "[nltk_data] Downloading package wordnet to /root/nltk_data...\n",
            "[nltk_data] Downloading package punkt to /root/nltk_data...\n",
            "[nltk_data]   Unzipping tokenizers/punkt.zip.\n"
          ]
        },
        {
          "data": {
            "text/plain": [
              "True"
            ]
          },
          "execution_count": 1,
          "metadata": {},
          "output_type": "execute_result"
        }
      ],
      "source": [
        "!pip install feedparser\n",
        "!pip install nltk\n",
        "import nltk\n",
        "nltk.download('stopwords')\n",
        "nltk.download('wordnet')\n",
        "nltk.download('punkt')"
      ]
    },
    {
      "cell_type": "code",
      "execution_count": null,
      "metadata": {
        "id": "sRkOICVRK4N9"
      },
      "outputs": [],
      "source": [
        "import feedparser\n",
        "import pandas as pd\n",
        "import nltk\n",
        "import numpy as np\n",
        "from nltk.corpus import stopwords\n",
        "from nltk.tokenize import word_tokenize\n",
        "from sklearn.feature_extraction.text import TfidfVectorizer\n",
        "from sklearn.cluster import KMeans\n",
        "from nltk.stem import WordNetLemmatizer\n",
        "from collections import Counter"
      ]
    },
    {
      "cell_type": "code",
      "execution_count": null,
      "metadata": {
        "id": "L_U_Aq9dK_WC"
      },
      "outputs": [],
      "source": [
        "sites = [\"https://feeds.bbci.co.uk/sport/rss.xml\",\n",
        "            \"https://www.espn.com/espn/rss/news\",\n",
        "            \"http://rss.cnn.com/rss/edition_sport.rss\",\n",
        "            \"https://www.wired.com/feed/rss\",\n",
        "            \"http://feeds.bbci.co.uk/news/technology/rss.xml\",\n",
        "            \"https://gizmodo.com/rss\",\n",
        "            \"https://inhabitat.com/environment/feed/\",\n",
        "            \"http://feeds.bbci.co.uk/news/science_and_environment/rss.xml\",\n",
        "            \"https://feeds.feedburner.com/climatecentral/djoo\",\n",
        "            \"https://www.climaterealityproject.org/rss.xml\"\n",
        "           ]"
      ]
    },
    {
      "cell_type": "code",
      "execution_count": null,
      "metadata": {
        "colab": {
          "base_uri": "https://localhost:8080/"
        },
        "id": "Qg-xQ6gpL0Nm",
        "outputId": "175cefcb-3eba-416a-8e66-1c670303025e"
      },
      "outputs": [
        {
          "name": "stdout",
          "output_type": "stream",
          "text": [
            "368\n"
          ]
        }
      ],
      "source": [
        "title = []\n",
        "for feed in sites:\n",
        "    feed_data = feedparser.parse(feed)\n",
        "    for entry in feed_data.entries:\n",
        "        title.append(entry.title)\n",
        "print(len(title)) # to check whether is 100 above"
      ]
    },
    {
      "cell_type": "code",
      "execution_count": null,
      "metadata": {
        "colab": {
          "base_uri": "https://localhost:8080/"
        },
        "id": "6ad8vszhMQ6Q",
        "outputId": "342ce2ab-5c17-44bc-e5ae-20eb1ca2d005"
      },
      "outputs": [
        {
          "data": {
            "text/plain": [
              "['Pistorius denied parole murder girlfriend Steenkamp',\n",
              " 'Racism claim Vaughan found not proved ',\n",
              " 'Premier League build-up news conference',\n",
              " 'Wimbledon lift ban Russian & Belarusian player',\n",
              " 'Bulked-up Joshua career heaviest Franklin',\n",
              " 'Renfroe make ridiculous  no-look catch debut',\n",
              " 'Muir Reekie part long-serving coach Young',\n",
              " 'A ‘ monumental week ’ exactly Liverpool need',\n",
              " 'Listen : IPL - Gujarat Titans v Chennai Super Kings - Stokes & Moeen play',\n",
              " 'The hearing closure - Rafiq',\n",
              " 'Rafiq feel vindicated  hearing',\n",
              " 'Guardiola may risk Haaland fitness Liverpool',\n",
              " 'Alonso top rain-affected Australian GP second practice',\n",
              " 'Who watch new England era begin',\n",
              " 'Why De Zerbi set one best ',\n",
              " 'Sutton s Premier League prediction v DMA S frontman & Everton fan Tommy ODell',\n",
              " 'England Netball launch woman s health initiative',\n",
              " 'Ireland secure first victory Bangladesh tour',\n",
              " 'Women s Tour 2023 cancelled amid funding issue',\n",
              " 'Five thing look Champions Cup',\n",
              " 'Potter praise Mount attitude amid Bayern link',\n",
              " 'Can Joshua turn back clock  career line ?',\n",
              " 'AFL star responds racist abuse iconic gesture',\n",
              " 'Ladder Guy  fix catastrophic  broken net NBA',\n",
              " 'Catterall Edwards sign Matchroom',\n",
              " 'Ukrainians should face Russians Olympic qualifier ',\n",
              " 'LIV v PGA Tour awkwardness medium creation - Watson',\n",
              " 'Joshua wo nt make mistake underestimating  Franklin',\n",
              " 'Embiid , Doncic Irving star 76ers beat Dallas',\n",
              " 'Joshua pushed breaking point  rebuild',\n",
              " 'Wheelchair fencer Collis  journey world number one',\n",
              " 'Time play bench boost ? Fantasy football tip',\n",
              " 'Cricket chief quits row tackling racism',\n",
              " 'Wire prop Mikaele return Australia',\n",
              " 'Rybakina & Alcaraz stay track Sunshine Double',\n",
              " 'Herring back Ulster Leinster s Doris',\n",
              " 'Notts County chief executive Turner dy aged 50',\n",
              " 'Renard first France squad since Diacre sacking',\n",
              " 'Drama , exhaustion , relief  - Chelsea s epic night',\n",
              " 'Root Stokes among star name IPL return',\n",
              " 'McCourt primed biggest fight  career',\n",
              " 'Which team drop Premier League ?',\n",
              " 'Whose future Premier League club risk ?',\n",
              " 'Luton v Watford derby not  - Edwards',\n",
              " 'One lap , six question - take Australian GP quiz',\n",
              " 'York s Henderson hail Aston Sheffield tie',\n",
              " 'Scotland set Six Nations showdown Wales',\n",
              " 'Mouat s Scotland target elusive world curling gold',\n",
              " 'President Biden s visit push Big Two  game back',\n",
              " 'Abandoned baby , raised Gaelic football',\n",
              " 'The horizon turned black  - riding world s biggest wave',\n",
              " 'How New York gang truce spawned Olympic sport',\n",
              " 'People ask get boring  - life two-team league',\n",
              " 'The King kid - inside Hagi s plan restore Romania s glory',\n",
              " 'How cycling carried two sister Taliban ’ reach',\n",
              " ' I carbon criminal  - disappearing ice changed climber',\n",
              " 'NBA MVP Straw Poll : Just thought race could nt get closer ...',\n",
              " 'Ohtani call pitch , K s 10 Angels loss',\n",
              " 'In race No . 1 seed , Celtics beat Bucks 41',\n",
              " 'Richardson flip flashing arm NFL exec',\n",
              " 'Barcelona VP confirms transfer talk Messi',\n",
              " 'Purdue s Edey near-unanimous AP men s POY',\n",
              " 'Pistorius denied parole killing girlfriend',\n",
              " 'Biden lauds Hamlin s courage  W.H . meeting',\n",
              " 'LIV s Smith : Real golf  talk Masters motivator',\n",
              " 'Predictions : Can Iowa stop South Carolina s undefeated season ?',\n",
              " 'Who top 25 player Final Four ?',\n",
              " 'Meet real Bloodline : How Roman Reigns family took professional wrestling',\n",
              " 'What learned wild MLB Opening Day 2023',\n",
              " 'Sizing FAU-SDSU , UConn-Miami 2023 tournament whole',\n",
              " 'NHL Power Rankings : X factor final two week',\n",
              " 'Can Matthew Tkachuk Panthers playoff ?',\n",
              " 'Oddsmakers , bettor trying gauge impact new rule',\n",
              " 'NCAA s international athlete still facing NIL challenge',\n",
              " 'A growing concern college athlete ? Social medium abuse gambler',\n",
              " 'On brink another title , Aliyah Boston s legacy already complete',\n",
              " 'Iowa s Caitlin Clark draw comparison Diana Taurasi',\n",
              " 'Is QB Luis Perez answer Renegades ?',\n",
              " 'Nine team separated four point : The Premier League s relegation battle intense',\n",
              " 'Big question Premier League s final stretch , title race three-way MVP battle',\n",
              " 'Watchability Rankings , 2022-23 : Europe s fun team , Bayern Munich Crystal Palace',\n",
              " 'Patriots  QB focus Mac Jones , Bailey Zappe -- Lamar Jackson',\n",
              " 'NBA play-in tournament 2023 : Schedule , projection , standing',\n",
              " 'The latest 2024 recruiting : Newest commits , upcoming visit',\n",
              " 'Everything need know bet men s Final Four',\n",
              " 'Betting tip woman s NCAA tournament Final Four',\n",
              " 'H-Town Takeover : Megan Thee Stallion headline Final Four concert',\n",
              " 'From disastrous debut deserved title fight , Robeisy Ramirez found way',\n",
              " 'Can Anthony Joshua change style , regain confidence become champion ?',\n",
              " 'Can ? The reigning PFL champion likely retain title 2023',\n",
              " 'Meet four team vying girl championship',\n",
              " 'Transfer Talk : Arsenal push Barcelona s Garcia January rejection',\n",
              " 'UFC president Dana White expect punishment domestic violence incident',\n",
              " 'Lionel Messi score Paris Saint-Germain first game back since World Cup triumph',\n",
              " 'Zach Johnson nt discounting Tiger Woods Ryder Cup',\n",
              " 'Australian Open draw : Rafael Nadal begin title defense tough test opening round',\n",
              " 'The Boston Celtics become first team hit 30 win season victory New Orleans Pelicans',\n",
              " 'Australia pull Afghanistan cricket series Taliban s restriction woman',\n",
              " 'Damar Hamlin released spending week hospitalized due cardiac arrest',\n",
              " 'Pelé s final hurrah New York Cosmos helped spark sporting revolution ',\n",
              " 'What made Pelé great',\n",
              " 'Pelé s life picture',\n",
              " 'Iranian chess referee fear ostracism activism',\n",
              " 'NFL coach controversy : It s race . It s finding quality coach ',\n",
              " 'Racing yacht keep giving extraordinary way',\n",
              " 'From feminist pioneer putting pro , historic journey world s oldest lady golf club',\n",
              " 'Jon Rahm produce stunning comeback win Tournament Champions Hawaii',\n",
              " 'Georgia realtor receives invitation play Masters mistake',\n",
              " 'Atlético Madrid forward João Félix join Chelsea loan end season',\n",
              " 'Why Cristiano Ronaldo s move Saudi Arabia mean much Gulf monarchy s sporting ambition',\n",
              " 'Brazilian soccer star investigation alleged sexual assault',\n",
              " 'Tennis star Naomi Osaka announces pregnant',\n",
              " 'How Back Up Your Digital Life ( 2023 ) : Hard Drives , Cloud-Based Tools , Tips',\n",
              " 'The Internet Archive ’ Literary Civil War',\n",
              " '13 Best Laptops ( 2023 ) : MacBooks , Windows , Chromebooks',\n",
              " '14 Best Noise-Canceling Headphones ( 2023 ) : Over-Ears , Wireless Earbuds , More',\n",
              " 'The Pope ’ Coat Is Here Ruin Your Faith',\n",
              " 'Tetris  Is Fun Ride , It s Got Few Missing Pieces',\n",
              " 'Nix Hydration Biosensor Review : Unlocking Science Sweat',\n",
              " '‘ Dungeons & Dragons : Honor Among Thieves ’ Plays Like Your Best D & D Game',\n",
              " 'Apple s iOS 16.4 : Security Updates Are Better Than Goose Emoji',\n",
              " 'Paris Fell Love With Escooters . Now It Might Ban Them',\n",
              " 'How Do People Live Orbit ? Ask Space Archeologists',\n",
              " 'Trump ’ Indictment Marks Historic Reckoning',\n",
              " '12 Best Deals : Phones , Headphones , Video Games',\n",
              " 'The 13 Best Movies HBO Max Right Now',\n",
              " 'Let AI Coding Wars Begin !',\n",
              " 'Specialized Turbo Tero X Review : Do Everything',\n",
              " 'The Effort Harness Animal ‘ Supersenses ’ —and Avert Disaster',\n",
              " 'Your Next Landlord Could Be 100 Random People',\n",
              " 'Surfing Amazon ’ Gadget-Strewn Sidewalk',\n",
              " 'This Blood Test Targets 50 Types Cancer',\n",
              " 'Crypto Bankruptcy Markets Are Thriving After FTX s Collapse',\n",
              " 'Review : We Put ChatGPT-4 , Bing Chat , Bard Test',\n",
              " 'How End Bias Taboos Women ’ Health Care',\n",
              " 'The Unbelievable Zombie Comeback Analog Computing',\n",
              " 'Porn ID Laws : Your State Country May Soon Require Age Verification',\n",
              " 'Russia Is Waging War Ukraine ’ Hospitals',\n",
              " 'These Angry Dutch Farmers Really Hate Microsoft',\n",
              " 'The US Is Sending Money Countries Devastated Cyberattacks',\n",
              " 'A Manhunt India Left 27 Million People Without Mobile Internet',\n",
              " 'The 21 Best Shows Hulu Right Now',\n",
              " 'Watches & Wonders 2023 : Rolex Has Emoji Watch',\n",
              " 'In Sudden Alarm , Tech Doyens Call Pause ChatGPT',\n",
              " 'Lamborghini ’ Revuelto Is Its New Hybrid',\n",
              " 'How Good Smile , Major Toy Company , Kept 4chan Online',\n",
              " 'The Best iPad ( 2023 ) : Which Apple Tablets Buy Avoid',\n",
              " 'All-Clad Cordless Rechargeable Hand Blender Review : Cordlessness Is nt Necessity',\n",
              " 'Red Teaming GPT-4 Was Valuable . Violet Teaming Will Make It Better',\n",
              " 'The Chemical Menace Inside Glaciers Icebergs',\n",
              " 'Apple iOS 16 iPadOS 16 ( 2023 ) : How Download , New Features , Supported Devices',\n",
              " 'One Man ’ Quest Revive Great American Vacuum Tube',\n",
              " 'Microsoft s ‘ Security Copilot ’ Sics ChatGPT Security Breaches',\n",
              " 'North Korea Is Now Mining Crypto Launder Its Stolen Loot',\n",
              " '25 Best Cat Toys Supplies ( 2023 ) : Scratchers , Window Perches , Modern Furniture , More',\n",
              " 'Amazon Sidewalk Releases Hardware Developer Kit',\n",
              " 'Technology Addiction Has Created Self-Help Trap',\n",
              " '24 Best Wireless Chargers ( 2023 ) : Pads , Stands , iPhone Docks , More',\n",
              " 'Be Your Own Tab Manager',\n",
              " 'The Trans-American Race Build Chargers Electric Trucks',\n",
              " 'Your Speech May Reveal Early Signs Alzheimer ’',\n",
              " 'TikTok Amazon Bet China ’ Ecommerce Model . It ’ Dud',\n",
              " 'ChatGPT banned Italy privacy concern',\n",
              " 'Google face new multi-billion advertising lawsuit',\n",
              " 'Friend foe : Can computer coder trust ChatGPT ?',\n",
              " 'Virgin Orbit : Sir Richard Branson s rocket company cut 85 % workforce',\n",
              " 'US-China chip war : Japan plan restrict equipment export',\n",
              " 'Elon Musk among expert urging halt AI training',\n",
              " 'UK rule new AI regulator',\n",
              " 'NHS Highland reprimand HIV patient email data breach',\n",
              " 'AI could replace equivalent 300 million job - report',\n",
              " 'Google : India tribunal upholds $ 160m fine company',\n",
              " 'Alibaba : China tech giant share jump breakup plan announced',\n",
              " 'Binance accused breaking US financial law',\n",
              " 'Clearview AI used nearly 1m time US police , tell BBC',\n",
              " 'Elon Musk : Twitter bos announces blue tick shake-up',\n",
              " 'Why fun apps banned French official  phone',\n",
              " 'NFT : Plans Royal Mint produced token dropped',\n",
              " 'Silicon Valley Bank : Collapsed US lender bought rival',\n",
              " 'Elon Musk : Twitter say part source code leaked online',\n",
              " 'Jack Ma : Alibaba founder seen China long absence',\n",
              " 'TikTok CEO Shou Zi Chew s Congress showdown : Five takeaway',\n",
              " 'Gordon Moore , Intel co-founder creator Moore s Law , dy aged 94',\n",
              " 'Do Kwon : Fugitive cryptocrash  bos arrested Montenegro',\n",
              " 'Utah first US state limit teen social medium access',\n",
              " 'ChatGPT bug leaked user  conversation history',\n",
              " 'Could US government actually block people accessing TikTok altogether ?',\n",
              " 'Bill Gates : AI important tech advance decade',\n",
              " 'Bard : Google s rival ChatGPT launch over-18s',\n",
              " 'Sidemen manager :  I cut alcohol succeed ',\n",
              " 'Hungary official take German MEP AI rap battle ',\n",
              " 'Shou Zi Chew : Who TikTok CEO ?',\n",
              " 'Zhao Weiguo : Chinese regulator accuses chip tycoon corruption',\n",
              " 'Psychological warfare  : US politician grill TikTok bos',\n",
              " 'Ros Atkins ... The creeping TikTok ban',\n",
              " 'The tech helping driverless car see round corner',\n",
              " 'Crewless container ship appear horizon',\n",
              " '‘ I left teaching train heat pump engineer ’',\n",
              " 'The revolution underway India s diamond industry',\n",
              " 'Could waste plastic become useful fuel source ?',\n",
              " 'Is better way insulate draughty home ?',\n",
              " 'How slimmed-down website cut carbon emission',\n",
              " 'What ’ Difference Between SpaceX ’ Starlink OneWeb ?',\n",
              " 'Feds Say Serial Swatter Had Discord Fans Follow His Exploits',\n",
              " 'Extremely Unfortunate Things You Can Be Allergic To',\n",
              " 'Anya Taylor-Joy Promises Her Furiosa Prequel Is `` Epic ',\n",
              " 'Italy Bans ChatGPT Says It Will Investigate OpenAI',\n",
              " 'Did Climate Change Make Gwyneth Paltrow s Ski Crash Worse ?',\n",
              " 'Renfield Is Very , Very Bloody Good Time',\n",
              " 'Suzume s English Dub Trailer Is Here , Starring Chair Remember',\n",
              " 'The Best Printers You Can Buy Right Now',\n",
              " 'Jack Dorsey s Block Rebuffs Cash App Fraud Allegations With Data Disclosure',\n",
              " 'Watch Live NASA Reveals Artemis Astronauts Who Will Fly Moon',\n",
              " 'The Hoverboards Are Still Exploding',\n",
              " 'Amazon Studios Beefs Up Its Comic Book Bona Fides With Former Marvel Editor-in-Chief',\n",
              " 'Apple Patents Using Its Watch , Earbuds , Eventual Headset For Full Body Tracking',\n",
              " 'Amazon Seller Consultant Pleads Guilty Bribery Scheme Help Merchants',\n",
              " 'How Did Human End Up Infected This Rose-Killing Fungus ?',\n",
              " 'China Takes Small Step Towards Improving Its Falling Rockets Problem',\n",
              " 'Midjourney Shuts Down Free Trial Access Amid Deepfake Bonanza , Says It s Unrelated',\n",
              " 'Star Trek : Picard Piles Chaos Upon Chaos Upon Chaos',\n",
              " 'Google Shuffles Assistant Leadership Focus Bard AI',\n",
              " 'Funko CEO Explains Future Mondo Strategy , It ’ Pretty Bad',\n",
              " 'Another Major DC Cameo The Flash Has Been Revealed',\n",
              " 'The Best Phones You Can Buy 2023',\n",
              " 'Last Night , Spotify App Talked Me Two Hours',\n",
              " 'Plants Yell When They ’ Stressed Out',\n",
              " 'Facebook Users EU Will No Longer Have Suffer From Targeted In-App Ads',\n",
              " 'Tron Stars Celebrate Movie Disney World s New Lightcycle Ride',\n",
              " 'Star Trek Release Dates : When Expect All New Returning Shows',\n",
              " 'Sorry , Jurassic Park : T. Rex Had Lips',\n",
              " 'Zero-Cost Cancer Screenings Birth Control On Line  Judge Strikes Down ACA Provision',\n",
              " 'Severe Storms Coming Central U.S. : Start Preparing ',\n",
              " 'Star Trek Is Finally Making That Starfleet Academy TV Series',\n",
              " 'April Fools  Day Is Perfect Time Watch These 10 Horror Parodies',\n",
              " 'Twitter Details How Much Money API Access Will Cost Now',\n",
              " 'The Power Shows That Political Satire Has nt Lost Spark',\n",
              " 'Bing Chat Is Already Polluted With Bad Ads',\n",
              " 'Netflix Might Bring Its Games TVs Effort Get People Actually Play Them',\n",
              " 'AI Ethics Group Says ChatGPT Violates FTC Rules , Calls Investigation',\n",
              " 'NASA s Massive Rocket Transporter Is Officially Record-Breaking Big Boy',\n",
              " 'Working Star Trek : Picard Together | LeVar Mica Burton Interview',\n",
              " 'Elon s Ego Can Rest Easy Knowing He Now Has Most Followers Twitter',\n",
              " 'Matt Damon Says He Did That Dumb Crypto.com Ad Because His Water Nonprofit Was Down ',\n",
              " 'Scott Pilgrim Movie Cast Reunites Voice Their Characters Netflix Anime',\n",
              " 'Is AI Moving Too Fast ? | Future Tech',\n",
              " 'Mike Flanagan Wants Direct Standalone Batman Villain Film',\n",
              " 'Airplanes Face Growing Risk Being Hit Uncontrolled Incoming Rockets',\n",
              " '1,000 Years Tree Rings Show Just How Hardcore 2021 Pacific Northwest Heat Wave Was',\n",
              " 'All Star Wars : Young Jedi Adventures Merch You Can Shake Lightsaber At',\n",
              " 'Newly Declassified Report Contradicts Officials , Suggests Havana Syndrome Might Be Caused Directed Energy',\n",
              " 'Boeing Sets Date First Crewed Starliner Launch , Parachute Tests Remain',\n",
              " 'Reddit Has Leaned Harder Banhammer Over Non-Consensual Hate Content',\n",
              " 'Unique trucking EV , fuel cell mobile fueling',\n",
              " 'What need know start garden apartment',\n",
              " 'Caf Bangkok upcycles milk carton glass bottle',\n",
              " 'Hurry , EVs may qualify 2023 tax credit',\n",
              " 'A production facility balance industry environment',\n",
              " 'EPA finalizes tough pollution standard truck bus',\n",
              " 'NASA s launched new satellite survey Earth s water',\n",
              " 'This luxury vegan designer bag changing high end fashion',\n",
              " 'The best natural cleaning recipe use around home',\n",
              " 'A recyclable home livable artwork hidden tree',\n",
              " 'Do think zoo animal park good bad ?',\n",
              " '5 ethical bedding shop consider good night s sleep',\n",
              " 'Forever chemical PFAS wo nt office supply 3M',\n",
              " 'These light fixture 3D printed biodegradable',\n",
              " 'Tesla , Kia Nissan rank top EV reliability',\n",
              " 'Better public transport system key greener city',\n",
              " 'Enter current future state climate change',\n",
              " 'What need know battery store solar power',\n",
              " 'They created minimalistic furniture line wood scrap',\n",
              " 'Transparent Label Campaign demand better pill regulation',\n",
              " 'Ford release sleek new Mustang electric crossover SUV',\n",
              " 'This waste recycling station made recycled waste',\n",
              " 'Try making mini greenhouse easy tip',\n",
              " 'Clothes made waste material loud message',\n",
              " 'London company LaBante make purse vegan leather',\n",
              " 'Retreat paradise beautiful Hawaii home',\n",
              " 'A catalyst push zinc-air battery record power density',\n",
              " 'TerraCycle take recycling whole new level',\n",
              " 'How nuclear power compare solar wind energy ?',\n",
              " 'Beautiful burnt cork furniture upholds ecosystem resiliency',\n",
              " 'Hemp production expanding construction market',\n",
              " 'Zero waste movement make big splash US',\n",
              " 'Barcelona s spectacular promenade sea',\n",
              " 'A foundation upcycles ocean plastic waste new product',\n",
              " 'What 3D-printed wood cut waste ?',\n",
              " 'What status climate action 2023 ?',\n",
              " 'Check eco resolution year tip',\n",
              " 'Shop versatile work-to-play clothes Tove Wear',\n",
              " 'Remodeling Madrid railway hub receives winning design',\n",
              " 'Meet fabulous unique 2023 Hyundai IONIQ 6 EV',\n",
              " 'Why US struggling fix power grid ?',\n",
              " 'How company reach net-zero 2030 ?',\n",
              " 'Order StudioPod , tiny home workspace one',\n",
              " 'A wood-processing office love letter timber',\n",
              " '6 unconventional solar panel design love',\n",
              " 'Hot new Winter Waters dinner spotlight seaweed star',\n",
              " 'Rome build largest solar farm world',\n",
              " 'New book teach everything koala',\n",
              " 'Eliminate plastic waste reusable Uphold Cutlery',\n",
              " 'This sustainable floating home made entirely wood',\n",
              " 'Sewage release England totalled 1.8 million hour 2022',\n",
              " 'Virgin Orbit : Sir Richard Branson s rocket company cut 85 % workforce',\n",
              " 'Thailand s extreme air pollution :  I feel sorry daughter ',\n",
              " 'New UK plan reach net zero goal face criticism',\n",
              " 'Antarctic ocean current heading collapse - report',\n",
              " 'Climate change : Is UK track meet target ?',\n",
              " 'Watch : Wildfire engulfs Thai mountain',\n",
              " 'Climate change : World s top court weigh',\n",
              " 'Philippines : The 70 nuclear relic may open last',\n",
              " 'Climate change : England ready impact',\n",
              " 'Swiss court case tie human right climate change',\n",
              " 'Why California s flood jacking food price',\n",
              " 'Five planet line Moon night sky',\n",
              " 'Inside Britain s biggest sewer London s River Thames',\n",
              " 'New car sold EU must zero-emission 2035',\n",
              " 'Lebanon crisis : The Syrian refugee recycling stay alive',\n",
              " 'Climate change : tree grow extra month planet warms - study',\n",
              " 'Five thing ve learned UN climate report',\n",
              " 'UN climate report : Scientists release survival guide  avert climate disaster',\n",
              " 'Claude Lorius : Pioneering French climate change scientist dy aged 91',\n",
              " 'UN warns vampiric  global water use',\n",
              " 'Extreme weather : What connected climate change ?',\n",
              " 'Ocean treaty : Historic agreement reached decade talk',\n",
              " 'Plymouth scientist Imogen Napper : Why I joined battle beat space junk',\n",
              " 'Space scientist reveal brightest gamma explosion ever',\n",
              " 'The looming threat Maine ’ iconic potato industry',\n",
              " 'Ellis Island , lighthouse among historic NJ site flooding sea rise',\n",
              " 'Still rare Iowa , electric car power Des Moines family ’ home blackout',\n",
              " 'Storied Maine ski resort bet future reining high cost warmer winter',\n",
              " 'Hardly past Winter Olympic host city snow host 60 year',\n",
              " 'Data may Colorado ’ best bet mitigate increasing wildfire risk Front Range',\n",
              " 'How sea level rise affecting commute around Atlantic City',\n",
              " '‘ A moral imperative ’ : Monastic sister rural Midwest make faith-based case climate action',\n",
              " 'As flooding amplifies along East Coast , Buddhist Jewish faith leader join climate fight',\n",
              " '‘ Preach mourn future ’ : How Key West faith leader confronting climate change',\n",
              " 'Rising sea swamp Black , Spanish Indigenous history Northeast Florida',\n",
              " 'Vanishing forest tell tale rising water',\n",
              " '‘ We dread summer ’ : dangerous ‘ fire weather ’ day rise northern California',\n",
              " 'Fewer fume : What switch electric vehicle mean Jacksonville',\n",
              " 'Picturing Our Future',\n",
              " 'How tidal flooding impacting student , caretaker education Atlantic City',\n",
              " 'A hotter drier climate set hurt agriculture West help farmer Asia',\n",
              " 'Drier heat wave threaten crop Iowa',\n",
              " 'Heat & amp ; Health : Expanding ‘ urban heat island ’ warming climate sends ER Charlotte',\n",
              " 'Urban heat even affect small city . Biddeford something',\n",
              " 'Hot Zones : Urban Heat Islands',\n",
              " 'In Atlantic City , rising sea threaten already struggling industry',\n",
              " 'In Maine ’ ‘ City Ships , ’ climate change ’ coastal threat already',\n",
              " 'Demand wind energy worker outpacing supply Iowa',\n",
              " 'The future wind energy floating turbine ocean',\n",
              " 'The US East Coast set become green energy job powerhouse',\n",
              " 'Back Beach : Nearly 3 year later , Florence survivor still ’ home',\n",
              " 'As temperature rise , allergy',\n",
              " 'Historic Harriet Tubman Sites Risk Rising Seas Eastern Shore',\n",
              " 'Climate Change Threatens Homes Boston ’ Most Vulnerable',\n",
              " 'Don ’ Trash Ironbound',\n",
              " 'Faith , Fellowship & Furthering Climate Movement',\n",
              " 'Young Innovators Challenge Future',\n",
              " 'All I Want My Earth Day Is Energy Transition',\n",
              " 'Why We ’ Be Las Vegas This June',\n",
              " 'Leveling Up : How Video Games Are Inspiring New Wave Climate Activism',\n",
              " 'Meet Sofía Hernández : A Youth Climate Activist Making Difference Costa Rica',\n",
              " 'The IPCC Report Is What World Needs Hear Now',\n",
              " 'Five Women , Five Countries , Five Questions : Meet Climate Shero Nosiphelo Nikani',\n",
              " 'Five Women , Five Countries , Five Questions : Meet Climate Shero Claudia Mellado']"
            ]
          },
          "execution_count": 5,
          "metadata": {},
          "output_type": "execute_result"
        }
      ],
      "source": [
        "# Clean the titles\n",
        "def cleaning(title):\n",
        "    stop_words = stopwords.words(\"english\")\n",
        "    lemmatizer = WordNetLemmatizer()\n",
        "    filtered_str = []\n",
        "    for doc in title:\n",
        "        tokens = word_tokenize(doc)\n",
        "        tmp = \" \".join(lemmatizer.lemmatize(w) for w in tokens if w not in stop_words)\n",
        "        filtered_str.append(tmp)\n",
        "    filtered_str = [i.replace(\"'\", \"\") for i in filtered_str]\n",
        "    return filtered_str\n",
        "\n",
        "pre_proc = cleaning(title)\n",
        "pre_proc"
      ]
    },
    {
      "cell_type": "code",
      "execution_count": null,
      "metadata": {
        "colab": {
          "base_uri": "https://localhost:8080/",
          "height": 111
        },
        "id": "WtYCZHwnNhMj",
        "outputId": "5ba5b58a-2908-4d58-ca66-046467167134"
      },
      "outputs": [
        {
          "name": "stderr",
          "output_type": "stream",
          "text": [
            "/usr/local/lib/python3.9/dist-packages/sklearn/cluster/_kmeans.py:870: FutureWarning: The default value of `n_init` will change from 10 to 'auto' in 1.4. Set the value of `n_init` explicitly to suppress the warning\n",
            "  warnings.warn(\n"
          ]
        },
        {
          "data": {
            "text/html": [
              "<style>#sk-container-id-1 {color: black;background-color: white;}#sk-container-id-1 pre{padding: 0;}#sk-container-id-1 div.sk-toggleable {background-color: white;}#sk-container-id-1 label.sk-toggleable__label {cursor: pointer;display: block;width: 100%;margin-bottom: 0;padding: 0.3em;box-sizing: border-box;text-align: center;}#sk-container-id-1 label.sk-toggleable__label-arrow:before {content: \"▸\";float: left;margin-right: 0.25em;color: #696969;}#sk-container-id-1 label.sk-toggleable__label-arrow:hover:before {color: black;}#sk-container-id-1 div.sk-estimator:hover label.sk-toggleable__label-arrow:before {color: black;}#sk-container-id-1 div.sk-toggleable__content {max-height: 0;max-width: 0;overflow: hidden;text-align: left;background-color: #f0f8ff;}#sk-container-id-1 div.sk-toggleable__content pre {margin: 0.2em;color: black;border-radius: 0.25em;background-color: #f0f8ff;}#sk-container-id-1 input.sk-toggleable__control:checked~div.sk-toggleable__content {max-height: 200px;max-width: 100%;overflow: auto;}#sk-container-id-1 input.sk-toggleable__control:checked~label.sk-toggleable__label-arrow:before {content: \"▾\";}#sk-container-id-1 div.sk-estimator input.sk-toggleable__control:checked~label.sk-toggleable__label {background-color: #d4ebff;}#sk-container-id-1 div.sk-label input.sk-toggleable__control:checked~label.sk-toggleable__label {background-color: #d4ebff;}#sk-container-id-1 input.sk-hidden--visually {border: 0;clip: rect(1px 1px 1px 1px);clip: rect(1px, 1px, 1px, 1px);height: 1px;margin: -1px;overflow: hidden;padding: 0;position: absolute;width: 1px;}#sk-container-id-1 div.sk-estimator {font-family: monospace;background-color: #f0f8ff;border: 1px dotted black;border-radius: 0.25em;box-sizing: border-box;margin-bottom: 0.5em;}#sk-container-id-1 div.sk-estimator:hover {background-color: #d4ebff;}#sk-container-id-1 div.sk-parallel-item::after {content: \"\";width: 100%;border-bottom: 1px solid gray;flex-grow: 1;}#sk-container-id-1 div.sk-label:hover label.sk-toggleable__label {background-color: #d4ebff;}#sk-container-id-1 div.sk-serial::before {content: \"\";position: absolute;border-left: 1px solid gray;box-sizing: border-box;top: 0;bottom: 0;left: 50%;z-index: 0;}#sk-container-id-1 div.sk-serial {display: flex;flex-direction: column;align-items: center;background-color: white;padding-right: 0.2em;padding-left: 0.2em;position: relative;}#sk-container-id-1 div.sk-item {position: relative;z-index: 1;}#sk-container-id-1 div.sk-parallel {display: flex;align-items: stretch;justify-content: center;background-color: white;position: relative;}#sk-container-id-1 div.sk-item::before, #sk-container-id-1 div.sk-parallel-item::before {content: \"\";position: absolute;border-left: 1px solid gray;box-sizing: border-box;top: 0;bottom: 0;left: 50%;z-index: -1;}#sk-container-id-1 div.sk-parallel-item {display: flex;flex-direction: column;z-index: 1;position: relative;background-color: white;}#sk-container-id-1 div.sk-parallel-item:first-child::after {align-self: flex-end;width: 50%;}#sk-container-id-1 div.sk-parallel-item:last-child::after {align-self: flex-start;width: 50%;}#sk-container-id-1 div.sk-parallel-item:only-child::after {width: 0;}#sk-container-id-1 div.sk-dashed-wrapped {border: 1px dashed gray;margin: 0 0.4em 0.5em 0.4em;box-sizing: border-box;padding-bottom: 0.4em;background-color: white;}#sk-container-id-1 div.sk-label label {font-family: monospace;font-weight: bold;display: inline-block;line-height: 1.2em;}#sk-container-id-1 div.sk-label-container {text-align: center;}#sk-container-id-1 div.sk-container {/* jupyter's `normalize.less` sets `[hidden] { display: none; }` but bootstrap.min.css set `[hidden] { display: none !important; }` so we also need the `!important` here to be able to override the default hidden behavior on the sphinx rendered scikit-learn.org. See: https://github.com/scikit-learn/scikit-learn/issues/21755 */display: inline-block !important;position: relative;}#sk-container-id-1 div.sk-text-repr-fallback {display: none;}</style><div id=\"sk-container-id-1\" class=\"sk-top-container\"><div class=\"sk-text-repr-fallback\"><pre>KMeans(max_iter=500, n_clusters=3, random_state=42)</pre><b>In a Jupyter environment, please rerun this cell to show the HTML representation or trust the notebook. <br />On GitHub, the HTML representation is unable to render, please try loading this page with nbviewer.org.</b></div><div class=\"sk-container\" hidden><div class=\"sk-item\"><div class=\"sk-estimator sk-toggleable\"><input class=\"sk-toggleable__control sk-hidden--visually\" id=\"sk-estimator-id-1\" type=\"checkbox\" checked><label for=\"sk-estimator-id-1\" class=\"sk-toggleable__label sk-toggleable__label-arrow\">KMeans</label><div class=\"sk-toggleable__content\"><pre>KMeans(max_iter=500, n_clusters=3, random_state=42)</pre></div></div></div></div></div>"
            ],
            "text/plain": [
              "KMeans(max_iter=500, n_clusters=3, random_state=42)"
            ]
          },
          "execution_count": 6,
          "metadata": {},
          "output_type": "execute_result"
        }
      ],
      "source": [
        "vectorizer = TfidfVectorizer()\n",
        "X = vectorizer.fit_transform(pre_proc)\n",
        "\n",
        "model = KMeans(3, max_iter=500, random_state=42)\n",
        "model.fit(X)"
      ]
    },
    {
      "cell_type": "code",
      "execution_count": null,
      "metadata": {
        "colab": {
          "base_uri": "https://localhost:8080/"
        },
        "id": "3tQSICeOOGeD",
        "outputId": "0bcfc4bb-f6b5-4bd5-e03a-6c58300c021b"
      },
      "outputs": [
        {
          "name": "stdout",
          "output_type": "stream",
          "text": [
            "Cluster 0 has 306 titles\n",
            "Cluster 1 has 34 titles\n",
            "Cluster 2 has 28 titles\n"
          ]
        }
      ],
      "source": [
        "labels = model.labels_\n",
        "cluster_counts = Counter(labels)\n",
        "\n",
        "# Print the number of documents in each cluster\n",
        "for cluster_label, count in cluster_counts.items():\n",
        "    print(f\"Cluster {cluster_label} has {count} titles\")"
      ]
    },
    {
      "cell_type": "code",
      "execution_count": null,
      "metadata": {
        "colab": {
          "background_save": true,
          "base_uri": "https://localhost:8080/"
        },
        "id": "TO3zG1cxMeXY",
        "outputId": "178cc8a6-277c-4d07-b0bd-1e9aa05422a2"
      },
      "outputs": [
        {
          "name": "stdout",
          "output_type": "stream",
          "text": [
            "Your search string prediction:  Sports\n"
          ]
        }
      ],
      "source": [
        "  while True:\n",
        "    ask = input(\"\\nDo you want to search? 'y' or 'n': \")\n",
        "    if ask == 'y':\n",
        "        inp = input(\"Write here: \")\n",
        "        inp = cleaning([inp])\n",
        "        Y = vectorizer.transform(inp)\n",
        "        prediction = model.predict(Y.toarray())\n",
        "        categories = {0: 'Sports', 1: 'Climate', 2: 'Technology'}\n",
        "        predict_category = categories[prediction[0]]\n",
        "        print(\"Your search string prediction: \", predict_category)\n",
        "    elif ask == 'n':\n",
        "        break\n",
        "    else:\n",
        "        print(\"Invalid input. Please enter 'y' or 'n'.\")"
      ]
    },
    {
      "cell_type": "code",
      "execution_count": null,
      "metadata": {
        "id": "DS3CRXkJOTCn"
      },
      "outputs": [],
      "source": []
    }
  ],
  "metadata": {
    "colab": {
      "provenance": [],
      "include_colab_link": true
    },
    "kernelspec": {
      "display_name": "Python 3",
      "name": "python3"
    },
    "language_info": {
      "name": "python"
    }
  },
  "nbformat": 4,
  "nbformat_minor": 0
}